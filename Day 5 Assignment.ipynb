{
 "cells": [
  {
   "cell_type": "markdown",
   "metadata": {},
   "source": [
    "# Assignment"
   ]
  },
  {
   "cell_type": "markdown",
   "metadata": {},
   "source": [
    "#Q1.Write a python program to find the first 20 non-even prime numbers."
   ]
  },
  {
   "cell_type": "code",
   "execution_count": 2,
   "metadata": {},
   "outputs": [
    {
     "name": "stdout",
     "output_type": "stream",
     "text": [
      "Enter the number of prime numbers needed: 20\n",
      " The first 20 non-even prime numbers:  \n",
      "3\n",
      "5\n",
      "7\n",
      "11\n",
      "13\n",
      "17\n",
      "19\n",
      "23\n",
      "29\n",
      "31\n",
      "37\n",
      "41\n",
      "43\n",
      "47\n",
      "53\n",
      "59\n",
      "61\n",
      "67\n",
      "71\n",
      "73\n"
     ]
    }
   ],
   "source": [
    "n = int(input(\"Enter the number of prime numbers needed: \"))\n",
    "x = range(1,n*10)\n",
    "prime_x= []\n",
    "\n",
    "for num in x :\n",
    "    if num > 2 and len(prime_x) <= n-1:\n",
    "        for i in range(2,num):\n",
    "            if (num % i)==0:\n",
    "                break\n",
    "        else:\n",
    "            prime_x.append(num)\n",
    "            \n",
    "print(\" The first\",n, \"non-even prime numbers:  \")\n",
    "for k in prime_x:\n",
    "    print(k)"
   ]
  },
  {
   "cell_type": "markdown",
   "metadata": {},
   "source": [
    "#Q2. Write a python program to implement 15 functions of string"
   ]
  },
  {
   "cell_type": "code",
   "execution_count": 6,
   "metadata": {},
   "outputs": [
    {
     "data": {
      "text/plain": [
       "'how are you ?'"
      ]
     },
     "execution_count": 6,
     "metadata": {},
     "output_type": "execute_result"
    }
   ],
   "source": [
    "str=\"How are you ?\"\n",
    "str.lower()"
   ]
  },
  {
   "cell_type": "code",
   "execution_count": 7,
   "metadata": {},
   "outputs": [
    {
     "data": {
      "text/plain": [
       "'HOW ARE YOU ?'"
      ]
     },
     "execution_count": 7,
     "metadata": {},
     "output_type": "execute_result"
    }
   ],
   "source": [
    "str.upper()"
   ]
  },
  {
   "cell_type": "code",
   "execution_count": 13,
   "metadata": {},
   "outputs": [
    {
     "data": {
      "text/plain": [
       "'How are you ?'"
      ]
     },
     "execution_count": 13,
     "metadata": {},
     "output_type": "execute_result"
    }
   ],
   "source": [
    "str"
   ]
  },
  {
   "cell_type": "code",
   "execution_count": 15,
   "metadata": {},
   "outputs": [
    {
     "data": {
      "text/plain": [
       "5"
      ]
     },
     "execution_count": 15,
     "metadata": {},
     "output_type": "execute_result"
    }
   ],
   "source": [
    "str.find('r')"
   ]
  },
  {
   "cell_type": "code",
   "execution_count": 16,
   "metadata": {},
   "outputs": [
    {
     "data": {
      "text/plain": [
       "2"
      ]
     },
     "execution_count": 16,
     "metadata": {},
     "output_type": "execute_result"
    }
   ],
   "source": [
    "\n",
    "str.count('o')"
   ]
  },
  {
   "cell_type": "code",
   "execution_count": 19,
   "metadata": {},
   "outputs": [
    {
     "data": {
      "text/plain": [
       "['How', 'are', 'you', '?']"
      ]
     },
     "execution_count": 19,
     "metadata": {},
     "output_type": "execute_result"
    }
   ],
   "source": [
    "str.split()"
   ]
  },
  {
   "cell_type": "markdown",
   "metadata": {},
   "source": [
    "#Q3.Write a python program to check if the given string is a Palindrome or Anagram or none of them.Display the message according to the user."
   ]
  },
  {
   "cell_type": "code",
   "execution_count": 21,
   "metadata": {},
   "outputs": [
    {
     "name": "stdout",
     "output_type": "stream",
     "text": [
      "Enter the first string: madam\n",
      "Enter the second string: madam\n",
      "The string is palindrome and anagrams\n"
     ]
    }
   ],
   "source": [
    "str1=input(\"Enter the first string: \")\n",
    "str2=input(\"Enter the second string: \")\n",
    "pal1=[]\n",
    "pal_rev=[]\n",
    "pal2=[]\n",
    "\n",
    "for i in str1:\n",
    "    pal1.append(i)\n",
    "    pal_rev.insert(0,i)\n",
    "for j in str2:\n",
    "    pal2.append(j)\n",
    "    \n",
    "    \n",
    "if pal1==pal_rev and sorted(str1)==sorted(str2):\n",
    "    print(\"The string is palindrome and anagrams\")\n",
    "    \n",
    "elif pal1==pal_rev:\n",
    "    print(\"String is palindrome\")\n",
    "    \n",
    "else:\n",
    "    if sorted(str1)==sorted(str2):\n",
    "        print(\"The string is anagrams.\")\n",
    "    else:\n",
    "        print(\"None\")\n",
    "        \n",
    "        "
   ]
  },
  {
   "cell_type": "code",
   "execution_count": 22,
   "metadata": {},
   "outputs": [
    {
     "name": "stdout",
     "output_type": "stream",
     "text": [
      "Enter the first string: earth\n",
      "Enter the second string: heart\n",
      "The string is anagrams.\n"
     ]
    }
   ],
   "source": [
    "str1=input(\"Enter the first string: \")\n",
    "str2=input(\"Enter the second string: \")\n",
    "pal1=[]\n",
    "pal_rev=[]\n",
    "pal2=[]\n",
    "\n",
    "for i in str1:\n",
    "    pal1.append(i)\n",
    "    pal_rev.insert(0,i)\n",
    "for j in str2:\n",
    "    pal2.append(j)\n",
    "    \n",
    "    \n",
    "if pal1==pal_rev and sorted(str1)==sorted(str2):\n",
    "    print(\"The string is palindrome and anagrams\")\n",
    "    \n",
    "elif pal1==pal_rev:\n",
    "    print(\"String is palindrome\")\n",
    "    \n",
    "else:\n",
    "    if sorted(str1)==sorted(str2):\n",
    "        print(\"The string is anagrams.\")\n",
    "    else:\n",
    "        print(\"None\")\n",
    "        "
   ]
  },
  {
   "cell_type": "code",
   "execution_count": 23,
   "metadata": {},
   "outputs": [
    {
     "name": "stdout",
     "output_type": "stream",
     "text": [
      "Enter the first string: hello\n",
      "Enter the second string: haai\n",
      "None\n"
     ]
    }
   ],
   "source": [
    "str1=input(\"Enter the first string: \")\n",
    "str2=input(\"Enter the second string: \")\n",
    "pal1=[]\n",
    "pal_rev=[]\n",
    "pal2=[]\n",
    "\n",
    "for i in str1:\n",
    "    pal1.append(i)\n",
    "    pal_rev.insert(0,i)\n",
    "for j in str2:\n",
    "    pal2.append(j)\n",
    "    \n",
    "    \n",
    "if pal1==pal_rev and sorted(str1)==sorted(str2):\n",
    "    print(\"The string is palindrome and anagrams\")\n",
    "    \n",
    "elif pal1==pal_rev:\n",
    "    print(\"String is palindrome\")\n",
    "    \n",
    "else:\n",
    "    if sorted(str1)==sorted(str2):\n",
    "        print(\"The string is anagrams.\")\n",
    "    else:\n",
    "        print(\"None\")\n",
    "        "
   ]
  },
  {
   "cell_type": "markdown",
   "metadata": {},
   "source": [
    "#Q4.Write a Python user defined function that removes all the additional characters from the string and converts it finally to lower case using built-in lower()."
   ]
  },
  {
   "cell_type": "code",
   "execution_count": null,
   "metadata": {},
   "outputs": [],
   "source": [
    "str=input(\"Enter the string: \")\n",
    "for i in str:\n",
    "    if (i.isalpha()):\n",
    "        str=str.replace(i,'')\n",
    "        print(str)"
   ]
  },
  {
   "cell_type": "code",
   "execution_count": null,
   "metadata": {},
   "outputs": [],
   "source": []
  }
 ],
 "metadata": {
  "kernelspec": {
   "display_name": "Python 3",
   "language": "python",
   "name": "python3"
  },
  "language_info": {
   "codemirror_mode": {
    "name": "ipython",
    "version": 3
   },
   "file_extension": ".py",
   "mimetype": "text/x-python",
   "name": "python",
   "nbconvert_exporter": "python",
   "pygments_lexer": "ipython3",
   "version": "3.7.6"
  }
 },
 "nbformat": 4,
 "nbformat_minor": 4
}
